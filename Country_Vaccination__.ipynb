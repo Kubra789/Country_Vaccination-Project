{
 "cells": [
  {
   "cell_type": "markdown",
   "id": "ee19180a",
   "metadata": {},
   "source": [
    "## Country_Vaccination Project"
   ]
  },
  {
   "cell_type": "markdown",
   "id": "b3c0d8f0",
   "metadata": {},
   "source": [
    "Below is a dataset for daily vaccination numbers per country."
   ]
  },
  {
   "cell_type": "code",
   "execution_count": 118,
   "id": "f817dd98",
   "metadata": {},
   "outputs": [],
   "source": [
    "#importing library\n",
    "import pandas as pd\n",
    "import numpy as np"
   ]
  },
  {
   "cell_type": "code",
   "execution_count": 119,
   "id": "eac42090",
   "metadata": {},
   "outputs": [],
   "source": [
    "df=pd.read_csv('country_vaccination_stats.csv')"
   ]
  },
  {
   "cell_type": "code",
   "execution_count": 120,
   "id": "bead5956",
   "metadata": {},
   "outputs": [],
   "source": [
    "df_copy=df.copy()"
   ]
  },
  {
   "cell_type": "code",
   "execution_count": 123,
   "id": "721f56a6",
   "metadata": {},
   "outputs": [
    {
     "data": {
      "text/html": [
       "<div>\n",
       "<style scoped>\n",
       "    .dataframe tbody tr th:only-of-type {\n",
       "        vertical-align: middle;\n",
       "    }\n",
       "\n",
       "    .dataframe tbody tr th {\n",
       "        vertical-align: top;\n",
       "    }\n",
       "\n",
       "    .dataframe thead th {\n",
       "        text-align: right;\n",
       "    }\n",
       "</style>\n",
       "<table border=\"1\" class=\"dataframe\">\n",
       "  <thead>\n",
       "    <tr style=\"text-align: right;\">\n",
       "      <th></th>\n",
       "      <th>country</th>\n",
       "      <th>date</th>\n",
       "      <th>daily_vaccinations</th>\n",
       "      <th>vaccines</th>\n",
       "    </tr>\n",
       "  </thead>\n",
       "  <tbody>\n",
       "    <tr>\n",
       "      <th>0</th>\n",
       "      <td>Argentina</td>\n",
       "      <td>12/29/2020</td>\n",
       "      <td>NaN</td>\n",
       "      <td>Sputnik V</td>\n",
       "    </tr>\n",
       "    <tr>\n",
       "      <th>1</th>\n",
       "      <td>Argentina</td>\n",
       "      <td>12/30/2020</td>\n",
       "      <td>15656.0</td>\n",
       "      <td>Sputnik V</td>\n",
       "    </tr>\n",
       "    <tr>\n",
       "      <th>2</th>\n",
       "      <td>Argentina</td>\n",
       "      <td>12/31/2020</td>\n",
       "      <td>15656.0</td>\n",
       "      <td>Sputnik V</td>\n",
       "    </tr>\n",
       "    <tr>\n",
       "      <th>3</th>\n",
       "      <td>Argentina</td>\n",
       "      <td>1/1/2021</td>\n",
       "      <td>11070.0</td>\n",
       "      <td>Sputnik V</td>\n",
       "    </tr>\n",
       "    <tr>\n",
       "      <th>4</th>\n",
       "      <td>Argentina</td>\n",
       "      <td>1/2/2021</td>\n",
       "      <td>8776.0</td>\n",
       "      <td>Sputnik V</td>\n",
       "    </tr>\n",
       "    <tr>\n",
       "      <th>...</th>\n",
       "      <td>...</td>\n",
       "      <td>...</td>\n",
       "      <td>...</td>\n",
       "      <td>...</td>\n",
       "    </tr>\n",
       "    <tr>\n",
       "      <th>1497</th>\n",
       "      <td>Wales</td>\n",
       "      <td>1/20/2021</td>\n",
       "      <td>11105.0</td>\n",
       "      <td>Oxford/AstraZeneca, Pfizer/BioNTech</td>\n",
       "    </tr>\n",
       "    <tr>\n",
       "      <th>1498</th>\n",
       "      <td>Wales</td>\n",
       "      <td>1/21/2021</td>\n",
       "      <td>12318.0</td>\n",
       "      <td>Oxford/AstraZeneca, Pfizer/BioNTech</td>\n",
       "    </tr>\n",
       "    <tr>\n",
       "      <th>1499</th>\n",
       "      <td>Wales</td>\n",
       "      <td>1/22/2021</td>\n",
       "      <td>15148.0</td>\n",
       "      <td>Oxford/AstraZeneca, Pfizer/BioNTech</td>\n",
       "    </tr>\n",
       "    <tr>\n",
       "      <th>1500</th>\n",
       "      <td>Wales</td>\n",
       "      <td>1/23/2021</td>\n",
       "      <td>17371.0</td>\n",
       "      <td>Oxford/AstraZeneca, Pfizer/BioNTech</td>\n",
       "    </tr>\n",
       "    <tr>\n",
       "      <th>1501</th>\n",
       "      <td>Wales</td>\n",
       "      <td>1/24/2021</td>\n",
       "      <td>17063.0</td>\n",
       "      <td>Oxford/AstraZeneca, Pfizer/BioNTech</td>\n",
       "    </tr>\n",
       "  </tbody>\n",
       "</table>\n",
       "<p>1502 rows × 4 columns</p>\n",
       "</div>"
      ],
      "text/plain": [
       "        country        date  daily_vaccinations                             vaccines\n",
       "0     Argentina  12/29/2020                 NaN                            Sputnik V\n",
       "1     Argentina  12/30/2020             15656.0                            Sputnik V\n",
       "2     Argentina  12/31/2020             15656.0                            Sputnik V\n",
       "3     Argentina    1/1/2021             11070.0                            Sputnik V\n",
       "4     Argentina    1/2/2021              8776.0                            Sputnik V\n",
       "...         ...         ...                 ...                                  ...\n",
       "1497      Wales   1/20/2021             11105.0  Oxford/AstraZeneca, Pfizer/BioNTech\n",
       "1498      Wales   1/21/2021             12318.0  Oxford/AstraZeneca, Pfizer/BioNTech\n",
       "1499      Wales   1/22/2021             15148.0  Oxford/AstraZeneca, Pfizer/BioNTech\n",
       "1500      Wales   1/23/2021             17371.0  Oxford/AstraZeneca, Pfizer/BioNTech\n",
       "1501      Wales   1/24/2021             17063.0  Oxford/AstraZeneca, Pfizer/BioNTech\n",
       "\n",
       "[1502 rows x 4 columns]"
      ]
     },
     "execution_count": 123,
     "metadata": {},
     "output_type": "execute_result"
    }
   ],
   "source": [
    "df"
   ]
  },
  {
   "cell_type": "code",
   "execution_count": 124,
   "id": "c4e603d8",
   "metadata": {},
   "outputs": [
    {
     "data": {
      "text/html": [
       "<div>\n",
       "<style scoped>\n",
       "    .dataframe tbody tr th:only-of-type {\n",
       "        vertical-align: middle;\n",
       "    }\n",
       "\n",
       "    .dataframe tbody tr th {\n",
       "        vertical-align: top;\n",
       "    }\n",
       "\n",
       "    .dataframe thead th {\n",
       "        text-align: right;\n",
       "    }\n",
       "</style>\n",
       "<table border=\"1\" class=\"dataframe\">\n",
       "  <thead>\n",
       "    <tr style=\"text-align: right;\">\n",
       "      <th></th>\n",
       "      <th>column_name</th>\n",
       "      <th>percent_missing</th>\n",
       "    </tr>\n",
       "  </thead>\n",
       "  <tbody>\n",
       "    <tr>\n",
       "      <th>daily_vaccinations</th>\n",
       "      <td>daily_vaccinations</td>\n",
       "      <td>3.994674</td>\n",
       "    </tr>\n",
       "    <tr>\n",
       "      <th>country</th>\n",
       "      <td>country</td>\n",
       "      <td>0.000000</td>\n",
       "    </tr>\n",
       "    <tr>\n",
       "      <th>date</th>\n",
       "      <td>date</td>\n",
       "      <td>0.000000</td>\n",
       "    </tr>\n",
       "    <tr>\n",
       "      <th>vaccines</th>\n",
       "      <td>vaccines</td>\n",
       "      <td>0.000000</td>\n",
       "    </tr>\n",
       "  </tbody>\n",
       "</table>\n",
       "</div>"
      ],
      "text/plain": [
       "                           column_name  percent_missing\n",
       "daily_vaccinations  daily_vaccinations         3.994674\n",
       "country                        country         0.000000\n",
       "date                              date         0.000000\n",
       "vaccines                      vaccines         0.000000"
      ]
     },
     "metadata": {},
     "output_type": "display_data"
    }
   ],
   "source": [
    "def display_percent_missing(data):\n",
    "    '''\n",
    "    data: Data is the dataset we want to see the percentage of missing data.\n",
    "    Function Action: This function show us of persent missing value for each column.\n",
    "    '''   \n",
    "    percent_missing = data.isnull().sum() *100 / len(data)\n",
    "    missing_value_df = pd.DataFrame({'column_name': data.columns, \n",
    "                                     'percent_missing': percent_missing})\n",
    "    \n",
    "    display(missing_value_df.sort_values(by='percent_missing', ascending=False).head(25))\n",
    "    return(missing_value_df)\n",
    "\n",
    "missing_value_df= display_percent_missing(df)"
   ]
  },
  {
   "cell_type": "code",
   "execution_count": 90,
   "id": "cf3ed388",
   "metadata": {},
   "outputs": [
    {
     "data": {
      "text/plain": [
       "country                0\n",
       "date                   0\n",
       "daily_vaccinations    60\n",
       "vaccines               0\n",
       "dtype: int64"
      ]
     },
     "execution_count": 90,
     "metadata": {},
     "output_type": "execute_result"
    }
   ],
   "source": [
    "df.isnull().sum()"
   ]
  },
  {
   "cell_type": "code",
   "execution_count": 91,
   "id": "23f334ac",
   "metadata": {},
   "outputs": [
    {
     "data": {
      "text/plain": [
       "array(['Argentina', 'Austria', 'Bahrain', 'Belgium', 'Brazil', 'Bulgaria',\n",
       "       'Canada', 'Chile', 'China', 'Costa Rica', 'Croatia', 'Cyprus',\n",
       "       'Czechia', 'Denmark', 'Ecuador', 'England', 'Estonia', 'Finland',\n",
       "       'France', 'Germany', 'Gibraltar', 'Greece', 'Hungary', 'Iceland',\n",
       "       'India', 'Indonesia', 'Ireland', 'Isle of Man', 'Israel', 'Italy',\n",
       "       'Kuwait', 'Latvia', 'Lithuania', 'Luxembourg', 'Malta', 'Mexico',\n",
       "       'Netherlands', 'Northern Ireland', 'Norway', 'Oman', 'Panama',\n",
       "       'Poland', 'Portugal', 'Romania', 'Russia', 'Saudi Arabia',\n",
       "       'Scotland', 'Serbia', 'Seychelles', 'Singapore', 'Slovakia',\n",
       "       'Slovenia', 'Spain', 'Sweden', 'Switzerland', 'Turkey',\n",
       "       'United Arab Emirates', 'United Kingdom', 'United States', 'Wales'],\n",
       "      dtype=object)"
      ]
     },
     "execution_count": 91,
     "metadata": {},
     "output_type": "execute_result"
    }
   ],
   "source": [
    "df['country'].unique()"
   ]
  },
  {
   "cell_type": "markdown",
   "id": "66bfc9df",
   "metadata": {},
   "source": [
    "### Answer 4) "
   ]
  },
  {
   "cell_type": "markdown",
   "id": "d0fc5767",
   "metadata": {},
   "source": [
    "Code Implementation Task: Implement code to fill the missing data (impute) in daily_vaccinations column per country with the minimum daily vaccination number of relevant countries.  \n",
    "Note: If a country does not have any valid vaccination number yet, fill it with “0” (zero). "
   ]
  },
  {
   "cell_type": "code",
   "execution_count": 93,
   "id": "e00d9012",
   "metadata": {
    "scrolled": true
   },
   "outputs": [
    {
     "data": {
      "text/plain": [
       "country\n",
       "Argentina                 6483.0\n",
       "Austria                   3368.0\n",
       "Bahrain                    943.0\n",
       "Belgium                      1.0\n",
       "Brazil                     112.0\n",
       "Bulgaria                   472.0\n",
       "Canada                     866.0\n",
       "Chile                       51.0\n",
       "China                   187500.0\n",
       "Costa Rica                 240.0\n",
       "Croatia                    989.0\n",
       "Cyprus                     534.0\n",
       "Czechia                   1822.0\n",
       "Denmark                   1994.0\n",
       "Ecuador                    108.0\n",
       "England                  37625.0\n",
       "Estonia                    309.0\n",
       "Finland                    459.0\n",
       "France                    5000.0\n",
       "Germany                  19721.0\n",
       "Gibraltar                  520.0\n",
       "Greece                     549.0\n",
       "Hungary                   1339.0\n",
       "Iceland                     63.0\n",
       "India                   112150.0\n",
       "Indonesia                11823.0\n",
       "Ireland                    550.0\n",
       "Isle of Man                 90.0\n",
       "Israel                    6887.0\n",
       "Italy                      926.0\n",
       "Kuwait                       NaN\n",
       "Latvia                     338.0\n",
       "Lithuania                  311.0\n",
       "Luxembourg                  62.0\n",
       "Malta                      259.0\n",
       "Mexico                    1300.0\n",
       "Netherlands               4000.0\n",
       "Northern Ireland          1563.0\n",
       "Norway                     224.0\n",
       "Oman                       817.0\n",
       "Panama                       6.0\n",
       "Poland                    4300.0\n",
       "Portugal                  2791.0\n",
       "Romania                    712.0\n",
       "Russia                    3357.0\n",
       "Saudi Arabia             14153.0\n",
       "Scotland                  3047.0\n",
       "Serbia                    1150.0\n",
       "Seychelles                 500.0\n",
       "Singapore                 2800.0\n",
       "Slovakia                   425.0\n",
       "Slovenia                  1270.0\n",
       "Spain                    41496.0\n",
       "Sweden                    3859.0\n",
       "Switzerland               3000.0\n",
       "Turkey                   67192.0\n",
       "United Arab Emirates     30698.0\n",
       "United Kingdom           46423.0\n",
       "United States            57909.0\n",
       "Wales                     1763.0\n",
       "Name: daily_vaccinations, dtype: float64"
      ]
     },
     "execution_count": 93,
     "metadata": {},
     "output_type": "execute_result"
    }
   ],
   "source": [
    "df.groupby('country')['daily_vaccinations'].min()"
   ]
  },
  {
   "cell_type": "code",
   "execution_count": 94,
   "id": "add71747",
   "metadata": {},
   "outputs": [],
   "source": [
    "#Filling missing value  per country with the minimum daily vaccination number of relevant countries.\n",
    "df[\"daily_vaccinations\"]=df.groupby('country')['daily_vaccinations'].transform(lambda x: x.fillna(x.min()))"
   ]
  },
  {
   "cell_type": "code",
   "execution_count": 95,
   "id": "783e4577",
   "metadata": {},
   "outputs": [
    {
     "data": {
      "text/html": [
       "<div>\n",
       "<style scoped>\n",
       "    .dataframe tbody tr th:only-of-type {\n",
       "        vertical-align: middle;\n",
       "    }\n",
       "\n",
       "    .dataframe tbody tr th {\n",
       "        vertical-align: top;\n",
       "    }\n",
       "\n",
       "    .dataframe thead th {\n",
       "        text-align: right;\n",
       "    }\n",
       "</style>\n",
       "<table border=\"1\" class=\"dataframe\">\n",
       "  <thead>\n",
       "    <tr style=\"text-align: right;\">\n",
       "      <th></th>\n",
       "      <th>column_name</th>\n",
       "      <th>percent_missing</th>\n",
       "    </tr>\n",
       "  </thead>\n",
       "  <tbody>\n",
       "    <tr>\n",
       "      <th>daily_vaccinations</th>\n",
       "      <td>daily_vaccinations</td>\n",
       "      <td>0.066578</td>\n",
       "    </tr>\n",
       "    <tr>\n",
       "      <th>country</th>\n",
       "      <td>country</td>\n",
       "      <td>0.000000</td>\n",
       "    </tr>\n",
       "    <tr>\n",
       "      <th>date</th>\n",
       "      <td>date</td>\n",
       "      <td>0.000000</td>\n",
       "    </tr>\n",
       "    <tr>\n",
       "      <th>vaccines</th>\n",
       "      <td>vaccines</td>\n",
       "      <td>0.000000</td>\n",
       "    </tr>\n",
       "  </tbody>\n",
       "</table>\n",
       "</div>"
      ],
      "text/plain": [
       "                           column_name  percent_missing\n",
       "daily_vaccinations  daily_vaccinations         0.066578\n",
       "country                        country         0.000000\n",
       "date                              date         0.000000\n",
       "vaccines                      vaccines         0.000000"
      ]
     },
     "metadata": {},
     "output_type": "display_data"
    }
   ],
   "source": [
    "missing_value_df= display_percent_missing(df)"
   ]
  },
  {
   "cell_type": "code",
   "execution_count": 96,
   "id": "45404cb4",
   "metadata": {},
   "outputs": [
    {
     "data": {
      "text/plain": [
       "country               0\n",
       "date                  0\n",
       "daily_vaccinations    1\n",
       "vaccines              0\n",
       "dtype: int64"
      ]
     },
     "execution_count": 96,
     "metadata": {},
     "output_type": "execute_result"
    }
   ],
   "source": [
    "df.isnull().sum()"
   ]
  },
  {
   "cell_type": "markdown",
   "id": "0444a470",
   "metadata": {},
   "source": [
    "After filling the missing data in the daily_vaccinations column with the min value of the relevant countries, the missing value table was examined again. All missing data could not be filled in due to the lack of a valid minimum value for the country of Kuwait. Filled with 0 because there is no valid vaccine number from this step."
   ]
  },
  {
   "cell_type": "code",
   "execution_count": 97,
   "id": "e72470b3",
   "metadata": {},
   "outputs": [],
   "source": [
    "# Kuwait does not any valid vaccination number yet,fill it with “0” (zero)\n",
    "df[\"daily_vaccinations\"].fillna(0, inplace=True)"
   ]
  },
  {
   "cell_type": "code",
   "execution_count": 98,
   "id": "b103df9d",
   "metadata": {},
   "outputs": [
    {
     "data": {
      "text/plain": [
       "country               0\n",
       "date                  0\n",
       "daily_vaccinations    0\n",
       "vaccines              0\n",
       "dtype: int64"
      ]
     },
     "execution_count": 98,
     "metadata": {},
     "output_type": "execute_result"
    }
   ],
   "source": [
    "df.isnull().sum()"
   ]
  },
  {
   "cell_type": "markdown",
   "id": "978bde20",
   "metadata": {},
   "source": [
    "###  Answer 5)"
   ]
  },
  {
   "cell_type": "markdown",
   "id": "03fa0a11",
   "metadata": {},
   "source": [
    "Code Implementation Task: Implement code to list the top-3 countries with highest median daily vaccination numbers by considering missing values imputed version of dataset."
   ]
  },
  {
   "cell_type": "code",
   "execution_count": 122,
   "id": "02b7f793",
   "metadata": {},
   "outputs": [
    {
     "data": {
      "text/plain": [
       "country\n",
       "United States    399093.0\n",
       "China            299107.5\n",
       "India            182551.5\n",
       "Name: daily_vaccinations, dtype: float64"
      ]
     },
     "execution_count": 122,
     "metadata": {},
     "output_type": "execute_result"
    }
   ],
   "source": [
    "df.groupby('country')['daily_vaccinations'].median().sort_values(ascending=False).head(3)"
   ]
  },
  {
   "cell_type": "markdown",
   "id": "e34731ab",
   "metadata": {},
   "source": [
    "##### Top 3 Countries\n",
    "1-United States <br>\n",
    "2-China <br>\n",
    "3-India <br>"
   ]
  },
  {
   "cell_type": "markdown",
   "id": "6c18b30f",
   "metadata": {},
   "source": [
    "### Answer 6) "
   ]
  },
  {
   "cell_type": "markdown",
   "id": "f058fed9",
   "metadata": {},
   "source": [
    "What is the number of total vaccinations done on 1/6/2021 (MM/DD/YYYY) by considering missing values imputed version of dataset? Please  just provide the number as answer."
   ]
  },
  {
   "cell_type": "code",
   "execution_count": 102,
   "id": "3382fe12",
   "metadata": {},
   "outputs": [],
   "source": [
    "df['date'] = pd.to_datetime(df['date'])"
   ]
  },
  {
   "cell_type": "code",
   "execution_count": 103,
   "id": "85280385",
   "metadata": {
    "scrolled": true
   },
   "outputs": [
    {
     "data": {
      "text/plain": [
       "date\n",
       "2020-12-13       6373.0\n",
       "2020-12-14      10663.0\n",
       "2020-12-15     201520.0\n",
       "2020-12-16     202347.0\n",
       "2020-12-17     202955.0\n",
       "2020-12-18     203234.0\n",
       "2020-12-19     209860.0\n",
       "2020-12-20     351864.0\n",
       "2020-12-21     360097.0\n",
       "2020-12-22     438915.0\n",
       "2020-12-23     484876.0\n",
       "2020-12-24     554683.0\n",
       "2020-12-25     586905.0\n",
       "2020-12-26     609813.0\n",
       "2020-12-27     642026.0\n",
       "2020-12-28     683179.0\n",
       "2020-12-29     761576.0\n",
       "2020-12-30     836134.0\n",
       "2020-12-31     874541.0\n",
       "2021-01-01     937426.0\n",
       "2021-01-02    1014630.0\n",
       "2021-01-03    1070392.0\n",
       "2021-01-04    1225923.0\n",
       "2021-01-05    1363842.0\n",
       "2021-01-06    1485255.0\n",
       "2021-01-07    1636630.0\n",
       "2021-01-08    1758746.0\n",
       "2021-01-09    1844454.0\n",
       "2021-01-10    1927589.0\n",
       "2021-01-11    1981736.0\n",
       "2021-01-12    2001262.0\n",
       "2021-01-13    2195834.0\n",
       "2021-01-14    2558868.0\n",
       "2021-01-15    2871342.0\n",
       "2021-01-16    2963700.0\n",
       "2021-01-17    2944891.0\n",
       "2021-01-18    3067223.0\n",
       "2021-01-19    3279650.0\n",
       "2021-01-20    3341204.0\n",
       "2021-01-21    2683719.0\n",
       "2021-01-22    2772300.0\n",
       "2021-01-23    2918389.0\n",
       "2021-01-24    3005078.0\n",
       "2021-01-25    2137679.0\n",
       "Name: daily_vaccinations, dtype: float64"
      ]
     },
     "execution_count": 103,
     "metadata": {},
     "output_type": "execute_result"
    }
   ],
   "source": [
    "df.groupby('date')['daily_vaccinations'].sum()"
   ]
  },
  {
   "cell_type": "code",
   "execution_count": 113,
   "id": "faab9fbe",
   "metadata": {},
   "outputs": [
    {
     "data": {
      "text/plain": [
       "1485255.0"
      ]
     },
     "execution_count": 113,
     "metadata": {},
     "output_type": "execute_result"
    }
   ],
   "source": [
    "df[df['date'] == '01-06-2021']['daily_vaccinations'].sum()"
   ]
  },
  {
   "cell_type": "markdown",
   "id": "c3fa4594",
   "metadata": {},
   "source": [
    "#### Total vaccinations done on 1/6/2021 (MM/DD/YYYY)\n",
    "1485255.0"
   ]
  }
 ],
 "metadata": {
  "kernelspec": {
   "display_name": "Python 3 (ipykernel)",
   "language": "python",
   "name": "python3"
  },
  "language_info": {
   "codemirror_mode": {
    "name": "ipython",
    "version": 3
   },
   "file_extension": ".py",
   "mimetype": "text/x-python",
   "name": "python",
   "nbconvert_exporter": "python",
   "pygments_lexer": "ipython3",
   "version": "3.9.12"
  }
 },
 "nbformat": 4,
 "nbformat_minor": 5
}
